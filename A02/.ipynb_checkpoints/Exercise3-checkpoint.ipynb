{
 "cells": [
  {
   "cell_type": "markdown",
   "metadata": {},
   "source": [
    "By: Noah Crowley\n",
    "\n",
    "Case ID: nwc17"
   ]
  },
  {
   "cell_type": "markdown",
   "metadata": {},
   "source": [
    "## The Problem\n",
    "\n",
    "Given a noisy black and white image, I want to be able to remove noise and get close to the original image. I plan to do this using Markov Random Fields and utilizing the pixels immediately surrounding a given pixel. I will include all eight pixels around any given pixel."
   ]
  },
  {
   "cell_type": "markdown",
   "metadata": {},
   "source": [
    "## Loading Images\n",
    "\n",
    "The first step to this is straight-forward - load an image into my program."
   ]
  },
  {
   "cell_type": "code",
   "execution_count": 1,
   "metadata": {},
   "outputs": [
    {
     "ename": "ImportError",
     "evalue": "No module named 'skimage'",
     "output_type": "error",
     "traceback": [
      "\u001b[0;31m---------------------------------------------------------------------------\u001b[0m",
      "\u001b[0;31mImportError\u001b[0m                               Traceback (most recent call last)",
      "\u001b[0;32m<ipython-input-1-ab1c4773cc5b>\u001b[0m in \u001b[0;36m<module>\u001b[0;34m()\u001b[0m\n\u001b[1;32m      2\u001b[0m \u001b[0;34m\u001b[0m\u001b[0m\n\u001b[1;32m      3\u001b[0m \u001b[0;32mimport\u001b[0m \u001b[0mmatplotlib\u001b[0m\u001b[0;34m.\u001b[0m\u001b[0mpyplot\u001b[0m \u001b[0;32mas\u001b[0m \u001b[0mpyplot\u001b[0m\u001b[0;34m\u001b[0m\u001b[0m\n\u001b[0;32m----> 4\u001b[0;31m \u001b[0;32mfrom\u001b[0m \u001b[0mskimage\u001b[0m \u001b[0;32mimport\u001b[0m \u001b[0mio\u001b[0m \u001b[0;32mas\u001b[0m \u001b[0mimgio\u001b[0m\u001b[0;34m\u001b[0m\u001b[0m\n\u001b[0m\u001b[1;32m      5\u001b[0m \u001b[0;34m\u001b[0m\u001b[0m\n\u001b[1;32m      6\u001b[0m \u001b[0morig_img\u001b[0m \u001b[0;34m=\u001b[0m \u001b[0mimgio\u001b[0m\u001b[0;34m.\u001b[0m\u001b[0mimread\u001b[0m\u001b[0;34m(\u001b[0m\u001b[0;34m\"images/exercise_3_base.png\"\u001b[0m\u001b[0;34m,\u001b[0m \u001b[0mas_grey\u001b[0m \u001b[0;34m=\u001b[0m \u001b[0;32mTrue\u001b[0m\u001b[0;34m)\u001b[0m\u001b[0;34m\u001b[0m\u001b[0m\n",
      "\u001b[0;31mImportError\u001b[0m: No module named 'skimage'"
     ]
    }
   ],
   "source": [
    "%matplotlib inline\n",
    "\n",
    "import matplotlib.pyplot as pyplot\n",
    "from skimage import io as imgio\n",
    "\n",
    "orig_img = imgio.imread(\"images/exercise_3_base.png\", as_grey = True)\n",
    "pyplot.imshow(orig_img, cmap = \"gray\")"
   ]
  },
  {
   "cell_type": "markdown",
   "metadata": {},
   "source": [
    "## Adding Noise\n",
    "\n",
    "Now that I have an image, I want to be able to add noise to this image so as to eventually try to remove that noise. Of course, in an actual use-case, the noise would be in the original image. This can again be done in a simple function."
   ]
  },
  {
   "cell_type": "code",
   "execution_count": null,
   "metadata": {},
   "outputs": [],
   "source": [
    "import numpy\n",
    "\n",
    "def add_noise(image, noise_ratio = 0.1):\n",
    "    noisy_image = image.copy()\n",
    "    pixels_to_flip = numpy.random.rand(*noisy_image.shape)\n",
    "    \n",
    "    for i in range(len(noisy_image)):\n",
    "        for j in range(len(noisy_image[i])):\n",
    "            if pixels_to_flip[i][j] < noise_ratio:\n",
    "                if noisy_image[i][j] == 255:\n",
    "                    noisy_image[i][j] = 0\n",
    "                else:\n",
    "                    noisy_image[i][j] = 255\n",
    "    \n",
    "    return noisy_image"
   ]
  },
  {
   "cell_type": "markdown",
   "metadata": {},
   "source": [
    "## Showing Images\n",
    "\n",
    "In order to see results, I will also create a quick function that will show any number of images side-by-side."
   ]
  },
  {
   "cell_type": "code",
   "execution_count": null,
   "metadata": {},
   "outputs": [],
   "source": [
    "def show_images(*args, num_columns = 2):\n",
    "    pyplot.figure(figsize = (12, 12))\n",
    "    num_rows = numpy.ceil(len(args) / num_columns)\n",
    "    subplot_index = num_rows * 100 + num_columns * 10\n",
    "    \n",
    "    for i, image in enumerate(args):\n",
    "        pyplot.subplot(subplot_index + i + 1)\n",
    "        pyplot.imshow(image, cmap = \"gray\")"
   ]
  },
  {
   "cell_type": "markdown",
   "metadata": {},
   "source": [
    "To start, I can now use this method to show the results before and after adding noise to my image."
   ]
  },
  {
   "cell_type": "code",
   "execution_count": null,
   "metadata": {},
   "outputs": [],
   "source": [
    "noisy_img = add_noise(orig_img, noise_ratio = 0.1)\n",
    "show_images(orig_img, noisy_img)"
   ]
  },
  {
   "cell_type": "markdown",
   "metadata": {},
   "source": [
    "## Removing Noise\n",
    "\n",
    "Now, in order to remove the noise from this, I will use two methods. The first will use **gradient descent** to optimize the values of the nodes and the second will use **simulated annealing** to slowly decrease the energy allowed in the system, as per my energy functions."
   ]
  }
 ],
 "metadata": {
  "kernelspec": {
   "display_name": "Python 3",
   "language": "python",
   "name": "python3"
  },
  "language_info": {
   "codemirror_mode": {
    "name": "ipython",
    "version": 3
   },
   "file_extension": ".py",
   "mimetype": "text/x-python",
   "name": "python",
   "nbconvert_exporter": "python",
   "pygments_lexer": "ipython3",
   "version": "3.5.4"
  }
 },
 "nbformat": 4,
 "nbformat_minor": 2
}
