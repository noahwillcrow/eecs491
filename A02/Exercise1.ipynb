{
 "cells": [
  {
   "cell_type": "markdown",
   "metadata": {},
   "source": [
    "By: Noah Crowley\n",
    "\n",
    "Case ID: nwc17"
   ]
  },
  {
   "cell_type": "markdown",
   "metadata": {},
   "source": [
    "## The Problem\n",
    "\n",
    "As a student who lives on campus at CWRU, hearing the fire alarm is an all-too-regular occurrence. It would be helpful to know what the most likely cause is given just the information that I, as a resident, have access to. It would be especially helpful to know if there had been an actual fire.\n",
    "\n",
    "My body of evidence variables is limited. I can only really know the following:\n",
    "\n",
    "- Whether the fire department showed up\n",
    "  - Fd ∈ {True, False}\n",
    "- Whether we were allowed back inside quickly\n",
    "  - Quick ∈ {True, False}\n",
    "- If smoke is seen coming from any of the windows\n",
    "  - Smoke ∈ {True, False}\n",
    "  \n",
    "And the most common possibilities that I know of are as follows:\n",
    "\n",
    "- Someone made a simple mistake, such as making easy mac without water or spraying too much air freshener\n",
    "  - Mistake ∈ {True, False}\n",
    "- It was all just a fire drill (does not rule out the possibility of another reason happening simultaneously)\n",
    "  - Drill ∈ {True, False}\n",
    "- An actual fire happened that could have hurt people\n",
    "  - Fire ∈ {True, False}\n",
    "\n",
    "This DAG illustrates the situation more graphically:\n",
    "\n",
    "<img src=\"images/exercise_1_dag.png\" width=\"500\">"
   ]
  },
  {
   "cell_type": "markdown",
   "metadata": {},
   "source": [
    "## Defining Probabilities\n",
    "\n",
    "While I am no expert on these matters, I will trust my intuition to create the prior probabilities and joint probabilities. Potentially, I could easily later retool these probabilities with numbers generated from an actual data set.\n",
    "\n",
    "For now, my priors are as follow:\n",
    "\n",
    "$$\n",
    "\\begin{align}\n",
    "P(Mistake) & = 0.75 \\\\\n",
    "P(Drill) & = 0.35 \\\\\n",
    "P(Fire) & = 0.05 \\\\\n",
    "\\end{align}\n",
    "$$\n",
    "\n",
    "And I will assume that the joint probabilities of these three variables are equal to the multiple of their individual probabilities. That is:\n",
    "\n",
    "$$\n",
    "\\begin{align}\n",
    "P(Mistake, Fire) & = P(Mistake)P(Fire) \\\\\n",
    "P(Mistake, Drill) & = P(Mistake)P(Drill) \\\\\n",
    "P(Fire, Drill) & = P(Fire)P(Drill) \\\\\n",
    "P(Mistake, Fire, Drill) & = P(Mistake)P(Fire)P(Drill)\n",
    "\\end{align}\n",
    "$$\n",
    "\n",
    "Finally, I can produce the following table detailing the probabilities\n",
    "\n",
    "| Variable | Value | Value | Value | Value |\n",
    "| :--- | ---: | ---: | ---: | ---: |\n",
    "| __Mistake__ | **True** | **True** | **False** | **False** |\n",
    "| __Fire__ | **True** | **False** | **True** | **False** |\n",
    "| Fd | 0.99 | 0.95 | 0.99 | 0.00 |\n",
    "\n",
    "| Variable | Value | Value | Value | Value |\n",
    "| :--- | ---: | ---: | ---: | ---: |\n",
    "| __Mistake__ | **True** | **True** | **False** | **False** |\n",
    "| __Drill__ | **True** | **False** | **True** | **False** |\n",
    "| Quick | 0.15 | 0.35 | 0.99 | 0.00 |\n",
    "\n",
    "| Variable | Value | Value | Value | Value |\n",
    "| :--- | ---: | ---: | ---: | ---: |\n",
    "| __Mistake__ | **True** | **True** | **False** | **False** |\n",
    "| __Fire__ | **True** | **False** | **True** | **False** |\n",
    "| Smoke | 0.90 | 0.15 | 0.85 | 0.00 |"
   ]
  },
  {
   "cell_type": "markdown",
   "metadata": {},
   "source": [
    "## Utilization of Probability Theory\n",
    "\n",
    "In pure theory, this should be the case:\n",
    "\n",
    "$$\n",
    "\\begin{align}\n",
    "P(Fire \\mid Fd, Quick, Smoke) & = \\sum_{Mistake} \\sum_{Drill} P(Fire, Mistake, Drill \\mid Fd, Quick, Smoke) \\\\\n",
    "                              & = \\sum_{Mistake} \\sum_{Drill} \\dfrac{P(Fire, Mistake, Drill, Fd, Quick, Smoke)}{P(Fd, Quick, Smoke)}\\\\\n",
    "                              & = \\dfrac\n",
    "                      {P(Fire) \\sum_{Mistake} P(Mistake) \\sum_{Drill} P(Drill) P(Fd, Quick, Smoke \\mid Fire, Mistake, Drill)}\n",
    "                      {\\sum_{Fire}P(Fire) \\sum_{Mistake} P(Mistake) \\sum_{Drill} P(Drill) P(Fd, Quick, Smoke \\mid Fire, Mistake, Drill)}\\\\\n",
    "                              & = \\dfrac\n",
    "                      {P(Fire) \\times \\sum_{Mistake} P(Mistake) \\times \\sum_{Drill} P(Drill) \\times P(Fd \\mid Fire, Mistake, Drill) \\times P(Quick \\mid Fire, Mistake, Drill) \\times P(Smoke \\mid Fire, Mistake, Drill)}\n",
    "                      {\\sum_{Fire}P(Fire) \\times \\sum_{Mistake} P(Mistake) \\times \\sum_{Drill} P(Drill) \\times P(Fd \\mid Fire, Mistake, Drill) \\times P(Quick \\mid Fire, Mistake, Drill) \\times P(Smoke \\mid Fire, Mistake, Drill)}\\\\\n",
    "                              & = \\dfrac\n",
    "                      {P(Fire) \\times \\sum_{Mistake} P(Mistake) \\times P(Fd \\mid Fire, Mistake) \\times P(Smoke \\mid Fire, Mistake) \\times \\sum_{Drill} P(Drill) \\times P(Quick \\mid Mistake, Drill)}{\\sum_{Fire}P(Fire) \\times \\sum_{Mistake} P(Mistake) \\times P(Fd \\mid Fire, Mistake) \\times P(Smoke \\mid Fire, Mistake) \\times \\sum_{Drill} P(Drill) \\times P(Quick \\mid Mistake, Drill)}\n",
    "\\end{align}\n",
    "$$\n",
    "\n",
    "To make this easier, I will take the numerator and turn it into a function of the value of Fire and the evidence variables:\n",
    "\n",
    "$$\n",
    "f(Fire, Fd, Quick, Smoke) = P(Fire) \\times \\sum_{Mistake} P(Mistake) \\times P(Fd \\mid Fire, Mistake) \\times P(Smoke \\mid Fire, Mistake) \\times \\sum_{Drill} P(Drill) \\times P(Quick \\mid Mistake, Drill)\n",
    "$$\n",
    "\n",
    "So that now my posterior simplifies:\n",
    "\n",
    "$$\n",
    "P(Fire \\mid Fd, Quick, Smoke) = \\dfrac{f(Fire, Fd, Quick, Smoke)}{\\sum_{Fire} f(Fire, Fd, Quick, Smoke)}\n",
    "$$\n",
    "\n",
    "In order to actually compute the value, it would be easier if I first just computed the values for $f(Fire, Fd, Quick, Smoke)$ and $f(\\bar{Fire}, Fd, Quick, Smoke)$:\n",
    "\n",
    "$$\n",
    "\\begin{align}\n",
    "f(Fire, Fd, Quick, Smoke) & = 0.05 \\times (\n",
    "0.75 \\times 0.99 \\times 0.90 \\times (0.35 \\times 0.15 + 0.65 \\times 0.35) + \n",
    "0.25 \\times 0.99 \\times 0.85 \\times (0.35 \\times 0.99 + 0.65 \\times 0.00)\n",
    ")\\\\\n",
    "                          & = 0.05 \\times (0.66825 \\times (0.0525 + 0.2275) + 0.210375 \\times (0.3465 + 0))\\\\\n",
    "                          & = 0.05 \\times (0.66825 \\times 0.28 + 0.210375 \\times 0.3465)\\\\\n",
    "                          & = 0.05 \\times (0.18711 + 0.0728949375)\\\\\n",
    "                          & = 0.05 \\times (0.2600049375)\\\\\n",
    "                          & \\approx 0.013\n",
    "\\end{align}\n",
    "$$\n",
    "\n",
    "$$\n",
    "\\begin{align}\n",
    "f(\\bar{Fire}, Fd, Quick, Smoke) & = 0.95 \\times (\n",
    "0.75 \\times 0.95 \\times 0.15 \\times (0.35 \\times 0.15 + 0.65 \\times 0.35) +\n",
    "0.25 \\times 0 \\times 0 \\times (0.35 \\times 0.99 + 0.65 \\times 0.00)\n",
    ")\\\\\n",
    "                                & = 0.95 \\times (0.106875 \\times (0.0525 + 0.2275) + 0 \\times (0.3465 + 0))\\\\\n",
    "                                & = 0.95 \\times (0.106875 \\times 0.28 + 0 \\times 0.3465)\\\\\n",
    "                                & = 0.95 \\times (0.029925 + 0)\\\\\n",
    "                                & = 0.95 \\times 0.029925\\\\\n",
    "                                & \\approx 0.028\n",
    "\\end{align}\n",
    "$$\n",
    "\n",
    "$$\n",
    "\\begin{align}\n",
    "P(Fire \\mid Fd, Quick, Smoke) & = \\dfrac{f(Fire, Fd, Quick, Smoke)}{\\sum_{Fire} f(Fire, Fd, Quick, Smoke)} \\\\ \\\\\n",
    "                              & \\approx \\dfrac{0.013}{0.013 + 0.028}\\\\\n",
    "                              & = \\dfrac{0.013}{0.041}\\\\\n",
    "                              & = 0.317\n",
    "\\end{align}\n",
    "$$"
   ]
  },
  {
   "cell_type": "markdown",
   "metadata": {},
   "source": [
    "## Using Python\n",
    "\n",
    "While I trust my mathematical skills, I would much rather not have to compute all the values by hand. Rather, I would like to be able to generate the posteriors given what I see the next time a fire alarm goes off, and to do that it would be helpful to have a computer run a short program. As a result, I will write this up in Python."
   ]
  },
  {
   "cell_type": "code",
   "execution_count": 64,
   "metadata": {},
   "outputs": [],
   "source": [
    "from pgmpy.models import BayesianModel\n",
    "from pgmpy.factors.discrete import TabularCPD as tcpd\n",
    "\n",
    "bayes_model = BayesianModel([\n",
    "    ('Mistake', 'Fd'), ('Fire', 'Fd'), ('Mistake', 'Quick'), ('Drill', 'Quick'), ('Mistake', 'Smoke'), ('Fire', 'Smoke')\n",
    "])\n",
    "\n",
    "prior_mistake = tcpd(variable = 'Mistake', variable_card = 2, values = [[0.25, 0.75]])\n",
    "prior_drill = tcpd(variable = 'Drill', variable_card = 2, values = [[0.65, 0.35]])\n",
    "prior_fire = tcpd(variable = 'Fire', variable_card = 2, values = [[0.95, 0.05]])\n",
    "\n",
    "cpd_fd = tcpd(\n",
    "    variable = 'Fd', variable_card = 2, evidence = ['Mistake', 'Fire'], evidence_card = [2, 2],\n",
    "    values = [\n",
    "        [1.00, 0.01, 0.05, 0.01],\n",
    "        [0.00, 0.99, 0.95, 0.99]\n",
    "    ]\n",
    ")\n",
    "\n",
    "cpd_quick = tcpd(\n",
    "    variable = 'Quick', variable_card = 2, evidence = ['Mistake', 'Drill'], evidence_card = [2, 2],\n",
    "    values = [\n",
    "        [1.00, 0.01, 0.65, 0.85],\n",
    "        [0.00, 0.99, 0.35, 0.15]\n",
    "    ]\n",
    ")\n",
    "\n",
    "cpd_smoke = tcpd(\n",
    "    variable = 'Smoke', variable_card = 2, evidence = ['Mistake', 'Fire'], evidence_card = [2, 2],\n",
    "    values = [\n",
    "        [1.00, 0.15, 0.85, 0.10],\n",
    "        [0.00, 0.85, 0.15, 0.90]\n",
    "    ]\n",
    ")\n",
    "\n",
    "bayes_model.add_cpds(prior_mistake, prior_drill, prior_fire, cpd_fd, cpd_quick, cpd_smoke)"
   ]
  },
  {
   "cell_type": "markdown",
   "metadata": {},
   "source": [
    "Just to make sure all of my values are valid, I should check my Bayesian model."
   ]
  },
  {
   "cell_type": "code",
   "execution_count": 65,
   "metadata": {},
   "outputs": [
    {
     "data": {
      "text/plain": [
       "True"
      ]
     },
     "execution_count": 65,
     "metadata": {},
     "output_type": "execute_result"
    }
   ],
   "source": [
    "bayes_model.check_model()"
   ]
  },
  {
   "cell_type": "markdown",
   "metadata": {},
   "source": [
    "## Checking Theory with Python\n",
    "\n",
    "Now that I've got my model into a computer program, I want to check that it all follows according to theory."
   ]
  },
  {
   "cell_type": "code",
   "execution_count": 66,
   "metadata": {},
   "outputs": [
    {
     "name": "stdout",
     "output_type": "stream",
     "text": [
      "╒════════╤═════════════╕\n",
      "│ Fire   │   phi(Fire) │\n",
      "╞════════╪═════════════╡\n",
      "│ Fire_0 │      0.6862 │\n",
      "├────────┼─────────────┤\n",
      "│ Fire_1 │      0.3138 │\n",
      "╘════════╧═════════════╛\n"
     ]
    }
   ],
   "source": [
    "from pgmpy.inference import VariableElimination as proc\n",
    "\n",
    "inference_result = proc(bayes_model)\n",
    "print(inference_result.query(['Fire'], {'Fd' : 1, 'Quick' : 1, 'Smoke' : 1}) ['Fire'])"
   ]
  },
  {
   "cell_type": "markdown",
   "metadata": {},
   "source": [
    "This value, 0.3138, is quite close to my approximated value, 0.317, which gives me confidence that I input the values to this model correctly.\n",
    "\n",
    "Now I can create a quick function that I can run to get the probability of any cause given my evidence:"
   ]
  },
  {
   "cell_type": "code",
   "execution_count": 67,
   "metadata": {},
   "outputs": [],
   "source": [
    "def get_cause_posterior(cause_name, fd, quick, smoke):\n",
    "    fd_value = 0\n",
    "    if (fd):\n",
    "        fd_value = 1\n",
    "        \n",
    "    quick_value = 0\n",
    "    if (quick):\n",
    "        quick_value = 1\n",
    "        \n",
    "    smoke_value = 0\n",
    "    if (smoke):\n",
    "        smoke_value = 1\n",
    "        \n",
    "    query_result = inference_result.query([cause_name], {'Fd' : fd_value, 'Quick' : quick_value, 'Smoke' : smoke_value})\n",
    "    \n",
    "    return query_result[cause_name].values[1]"
   ]
  },
  {
   "cell_type": "markdown",
   "metadata": {},
   "source": [
    "And, lastly, I will just check that my function gives me the correct result"
   ]
  },
  {
   "cell_type": "code",
   "execution_count": 68,
   "metadata": {},
   "outputs": [
    {
     "name": "stdout",
     "output_type": "stream",
     "text": [
      "0.31379584000608274\n"
     ]
    }
   ],
   "source": [
    "print(get_cause_posterior('Fire', True, True, True))"
   ]
  },
  {
   "cell_type": "markdown",
   "metadata": {},
   "source": [
    "And it appears to be working!"
   ]
  }
 ],
 "metadata": {
  "kernelspec": {
   "display_name": "Python 3",
   "language": "python",
   "name": "python3"
  },
  "language_info": {
   "codemirror_mode": {
    "name": "ipython",
    "version": 3
   },
   "file_extension": ".py",
   "mimetype": "text/x-python",
   "name": "python",
   "nbconvert_exporter": "python",
   "pygments_lexer": "ipython3",
   "version": "3.5.4"
  }
 },
 "nbformat": 4,
 "nbformat_minor": 2
}
